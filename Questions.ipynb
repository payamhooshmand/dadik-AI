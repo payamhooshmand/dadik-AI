{
  "nbformat": 4,
  "nbformat_minor": 0,
  "metadata": {
    "colab": {
      "provenance": [],
      "authorship_tag": "ABX9TyMTq772Fw8Gpfz98ltEvTXS",
      "include_colab_link": true
    },
    "kernelspec": {
      "name": "python3",
      "display_name": "Python 3"
    },
    "language_info": {
      "name": "python"
    }
  },
  "cells": [
    {
      "cell_type": "markdown",
      "metadata": {
        "id": "view-in-github",
        "colab_type": "text"
      },
      "source": [
        "<a href=\"https://colab.research.google.com/github/payamhooshmand/dadik-AI/blob/main/Questions.ipynb\" target=\"_parent\"><img src=\"https://colab.research.google.com/assets/colab-badge.svg\" alt=\"Open In Colab\"/></a>"
      ]
    },
    {
      "cell_type": "code",
      "execution_count": 1,
      "metadata": {
        "colab": {
          "base_uri": "https://localhost:8080/"
        },
        "id": "ushHpIilYiyW",
        "outputId": "1d139f0d-f2f3-405a-aec4-20e1e022c76c"
      },
      "outputs": [
        {
          "output_type": "stream",
          "name": "stdout",
          "text": [
            "۱. آیا شکواِیِه می‌خواهید یا اعتراض؟ شکوایه\n",
            "۲. به کدام مرجع اعتراض دارید؟ دادگاه خانواده\n",
            "۳. مشکل خود را بیان کنید: از همسرم جدا شده ام. دو سال است نه نفقه داده نه مهریه\n",
            "اطلاعات شما با موفقیت ذخیره شد.\n",
            "مسیر فایل: /content/user_responses.txt\n"
          ]
        }
      ],
      "source": [
        "\n",
        "# دریافت اطلاعات از کاربر\n",
        "shakwayeh_ya_eteraz = input(\"۱. آیا شکواِیِه می‌خواهید یا اعتراض؟ \")\n",
        "marjae_eteraz = input(\"۲. به کدام مرجع اعتراض دارید؟ \")\n",
        "moshkel = input(\"۳. مشکل خود را بیان کنید: \")\n",
        "\n",
        "# ذخیره اطلاعات در یک فایل متنی\n",
        "file_path = \"/content/user_responses.txt\"\n",
        "\n",
        "with open(file_path, \"w\", encoding=\"utf-8\") as file:\n",
        "    file.write(\"۱. آیا شکواِیِه می‌خواهید یا اعتراض؟ \" + shakwayeh_ya_eteraz + \"\\n\")\n",
        "    file.write(\"۲. به کدام مرجع اعتراض دارید؟ \" + marjae_eteraz + \"\\n\")\n",
        "    file.write(\"۳. مشکل خود را بیان کنید: \" + moshkel + \"\\n\")\n",
        "\n",
        "print(\"اطلاعات شما با موفقیت ذخیره شد.\")\n",
        "print(f\"مسیر فایل: {file_path}\")"
      ]
    }
  ]
}