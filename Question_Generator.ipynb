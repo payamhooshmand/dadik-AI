{
  "nbformat": 4,
  "nbformat_minor": 0,
  "metadata": {
    "colab": {
      "provenance": []
    },
    "kernelspec": {
      "name": "python3",
      "display_name": "Python 3"
    },
    "language_info": {
      "name": "python"
    }
  },
  "cells": [
    {
      "cell_type": "code",
      "execution_count": null,
      "metadata": {
        "id": "qUoR0N9NGjnp"
      },
      "outputs": [],
      "source": [
        "import pandas as pd\n",
        "from transformers import AutoTokenizer, AutoModelForSeq2SeqLM, pipeline\n",
        "import torch\n",
        "import arabic_reshaper\n",
        "from bidi.algorithm import get_display\n",
        "\n",
        "# Check if GPU is available\n",
        "device = torch.device('cuda' if torch.cuda.is_available() else 'cpu')\n",
        "print(f\"Using device: {device}\")\n",
        "\n",
        "# Load tokenizer and model\n",
        "model_name = \"C:/Users/Dadik/desktop/fine_tuned_model13\"  # Update this if the model path changes\n",
        "tokenizer = AutoTokenizer.from_pretrained(model_name, use_fast=True)  # Use the fast tokenizer\n",
        "model = AutoModelForSeq2SeqLM.from_pretrained(model_name).to(device)\n",
        "\n",
        "# Convert text for proper Farsi display\n",
        "def convert(text):\n",
        "    reshaped_text = arabic_reshaper.reshape(text)\n",
        "    return get_display(reshaped_text)\n",
        "\n",
        "# Initialize the pipeline with the fine-tuned model\n",
        "pipe = pipeline(\n",
        "    \"text2text-generation\",\n",
        "    model=model,\n",
        "    tokenizer=tokenizer,\n",
        "    device=device,  # Use the selected device\n",
        "    max_length=300,\n",
        "    batch_size=1\n",
        ")\n",
        "\n",
        "# The text we want to generate questions from, the user's input\n",
        "user_input = \"ماده(11) بانک مرکزی جمهوری اسلامی ایران موظف است با همکاری سازمان ظرف مدت یک سال پس از ابلاغ این قانون نسبت به ساماندهی دستگاههای کارتخوان بانکی و یا در گاههای پرداخت الکترونیکی اقدام نموده و با ایجاد مناظر بین آن ها با مجوز فعالیت و شماره اقتصادی بنگاههای اقتصادی به هر یک از پایانه های فروش شناسه یکتا اختصاص دهد پس از تخصیص شناسه مذکور کلیه تراکنشهای انجام شده از طریق حساب های بانکی متصل به دستگاههای کارتخوان بانکی و نیز در گاههای پرداخت الکترونیکی به عنوان تراکنشهای بانکی مرتبط با فعالیت شغلی صاحب حساب بانکی محسوب شده و بانک مرکزی جمهوری اسلامی ایران موظف است در چهارچوب قانون و مقررات مربوطه اطلاعات این تراکنشهای بانکی شامل مانده اول دوره وجود و اریزی و جوه برداشت شده و مانده آخر دوره در حساب بانکی را به منظور تکمیل پایگاه اطلاعات هویتی عملکردی و دارایی مودیان موضوع ماده ( 169 مکرر ) قانون مالیات های مستقیم مصوب سوم اسفند هزار و سیصد و شصت و شش با اصلاحات و الحاقات بعدی به صورت برخط در اختیار سازمان قرار دهد تبصره پس از انقضای مواد ( گذشت زمان ) مذکور در این ماده اتصال دستگاههای کارتخوان بانکی  و یا در گاههای پرداخت الکترونیکی که تعلق آن ها به مودی معین توسط سازمان امور مالیاتی تایید نشده باشد به شبکه پرداخت بانکی کشور ممنوع است بانک مرکزی و حسب مورد کلیه بانکها و ارایه دهندگان خدمات پرداخت موظف هستند مشخصات بهره برداران کلیه دستگاههای کارتخوان بانکی  و پایانه های پرداخت الکترونیکی را به سازمان اعلام کنند در صورت تخلف از حکم این ماده مرتکبان به مجازات درجه شش قانون مجازات اسلامی به غیر از حبس محکوم می شوند\"\n",
        "\n",
        "num_questions = 10  # Number of questions to generate\n",
        "\n",
        "# Function to generate rephrased questions (using the same model)\n",
        "def generate_rephrased_questions(input_text, num_rephrases=10):\n",
        "    rephrased_questions = []\n",
        "    for _ in range(num_rephrases):\n",
        "        try:\n",
        "            # Generate a question based on the input text\n",
        "            generated_question = pipe([input_text],\n",
        "                                      temperature=0.7,  # Slight randomness to encourage variety\n",
        "                                      do_sample=True,\n",
        "                                      repetition_penalty=2.0,\n",
        "                                      max_length=150,  # Adjust based on your desired question length\n",
        "                                      top_k=50,\n",
        "                                      top_p=0.9,\n",
        "                                )\n",
        "            question = generated_question[0]['generated_text']\n",
        "\n",
        "            # Split the question into separate ones based on '?'\n",
        "            split_questions = question.split(',')\n",
        "            for q in split_questions:\n",
        "                if q.strip():  # Avoid empty strings\n",
        "                    rephrased_questions.append(q.strip() + \"\")\n",
        "        except Exception as e:\n",
        "            print(f\"Error generating question: {e}\")\n",
        "            rephrased_questions.append(\"Error generating question.\")\n",
        "    return rephrased_questions\n",
        "\n",
        "# Generate rephrased questions\n",
        "generated_questions = generate_rephrased_questions(user_input, num_rephrases=num_questions)\n",
        "\n",
        "# Print the input text and the generated questions\n",
        "print(\"Input Text:\", convert(user_input))\n",
        "print(\"Generated Questions:\")\n",
        "print()\n",
        "for i, question in enumerate(generated_questions, 1):\n",
        "    print(f\"{i}. {convert(question)}\")\n",
        "    print()\n"
      ]
    }
  ]
}